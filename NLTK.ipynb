{
  "nbformat": 4,
  "nbformat_minor": 0,
  "metadata": {
    "colab": {
      "provenance": [],
      "toc_visible": true,
      "authorship_tag": "ABX9TyNxcF7iHPE+QGW4OdsVe5uP",
      "include_colab_link": true
    },
    "kernelspec": {
      "name": "python3",
      "display_name": "Python 3"
    },
    "language_info": {
      "name": "python"
    }
  },
  "cells": [
    {
      "cell_type": "markdown",
      "metadata": {
        "id": "view-in-github",
        "colab_type": "text"
      },
      "source": [
        "<a href=\"https://colab.research.google.com/github/JuliaKovalchook/Python-Cheatsheet/blob/main/NLTK.ipynb\" target=\"_parent\"><img src=\"https://colab.research.google.com/assets/colab-badge.svg\" alt=\"Open In Colab\"/></a>"
      ]
    },
    {
      "cell_type": "markdown",
      "source": [
        "#NLTP\n",
        "https://www.nltk.org/howto.html\n"
      ],
      "metadata": {
        "id": "vYfltqABcctG"
      }
    },
    {
      "cell_type": "code",
      "execution_count": 32,
      "metadata": {
        "colab": {
          "base_uri": "https://localhost:8080/"
        },
        "id": "eX1XvFtySw8l",
        "outputId": "8dee46a8-efae-42d8-9157-061e938f83d5"
      },
      "outputs": [
        {
          "output_type": "stream",
          "name": "stderr",
          "text": [
            "[nltk_data] Downloading package wordnet to /root/nltk_data...\n",
            "[nltk_data]   Package wordnet is already up-to-date!\n",
            "[nltk_data] Downloading package punkt to /root/nltk_data...\n",
            "[nltk_data]   Package punkt is already up-to-date!\n",
            "[nltk_data] Downloading package averaged_perceptron_tagger to\n",
            "[nltk_data]     /root/nltk_data...\n",
            "[nltk_data]   Package averaged_perceptron_tagger is already up-to-\n",
            "[nltk_data]       date!\n"
          ]
        },
        {
          "output_type": "execute_result",
          "data": {
            "text/plain": [
              "True"
            ]
          },
          "metadata": {},
          "execution_count": 32
        }
      ],
      "source": [
        "import nltk\n",
        "nltk.download('wordnet')\n",
        "nltk.download('punkt')\n",
        "nltk.download('averaged_perceptron_tagger')\n"
      ]
    },
    {
      "cell_type": "markdown",
      "source": [
        "#Spliting"
      ],
      "metadata": {
        "id": "D8ne9dpLb7RO"
      }
    },
    {
      "cell_type": "code",
      "source": [
        "input1 = \"List listed lists listing listings\"\n",
        "words1 = input1.lower().split(' ')\n",
        "words1"
      ],
      "metadata": {
        "colab": {
          "base_uri": "https://localhost:8080/"
        },
        "id": "FCbYOwG1YVJ2",
        "outputId": "627beb7d-6d92-4c56-92f0-ecd7bc1b4a16"
      },
      "execution_count": 21,
      "outputs": [
        {
          "output_type": "execute_result",
          "data": {
            "text/plain": [
              "['list', 'listed', 'lists', 'listing', 'listings']"
            ]
          },
          "metadata": {},
          "execution_count": 21
        }
      ]
    },
    {
      "cell_type": "markdown",
      "source": [
        "## Tokenization\n",
        "Tokenization is the process splitting the raw text into small chunks of words or sentences, called tokens."
      ],
      "metadata": {
        "id": "aeLJfHbLZTE3"
      }
    },
    {
      "cell_type": "markdown",
      "source": [
        "word_tokenize - split word\n",
        "\n",
        "sent_tokenize - split sent"
      ],
      "metadata": {
        "id": "d5iH0qzCZuto"
      }
    },
    {
      "cell_type": "code",
      "source": [
        "#nltk.download('punkt')\n",
        "\n",
        "text11 = \"This is the first sentence. A gallon of milk in the U.S. costs $2.99. Is this the third sentence? Yes, it is!\"\n",
        "text_split=text11.split(' ')\n",
        "print(text_split)\n",
        "\n",
        "text_word=nltk.word_tokenize(text11)\n",
        "print(text_word)\n",
        "\n",
        "text_sent=nltk.sent_tokenize(text11)\n",
        "print(text_sent)"
      ],
      "metadata": {
        "colab": {
          "base_uri": "https://localhost:8080/"
        },
        "id": "bbyYNjsmXQyv",
        "outputId": "acb11b23-dce1-4581-f628-f60683323e30"
      },
      "execution_count": 22,
      "outputs": [
        {
          "output_type": "stream",
          "name": "stdout",
          "text": [
            "['This', 'is', 'the', 'first', 'sentence.', 'A', 'gallon', 'of', 'milk', 'in', 'the', 'U.S.', 'costs', '$2.99.', 'Is', 'this', 'the', 'third', 'sentence?', 'Yes,', 'it', 'is!']\n",
            "['This', 'is', 'the', 'first', 'sentence', '.', 'A', 'gallon', 'of', 'milk', 'in', 'the', 'U.S.', 'costs', '$', '2.99', '.', 'Is', 'this', 'the', 'third', 'sentence', '?', 'Yes', ',', 'it', 'is', '!']\n",
            "['This is the first sentence.', 'A gallon of milk in the U.S. costs $2.99.', 'Is this the third sentence?', 'Yes, it is!']\n"
          ]
        }
      ]
    },
    {
      "cell_type": "markdown",
      "source": [
        "###Frequency"
      ],
      "metadata": {
        "id": "PUSqSd_s2V16"
      }
    },
    {
      "cell_type": "code",
      "source": [
        "from nltk.probability import FreqDist\n",
        "\n",
        "token_dict = FreqDist(text_word) #frequency distribution of all the words in the text\n",
        "lst=token_dict.most_common(5)  #lst = {k: token_dict[k] for k in list(token_dict)[:5]} - the same\n",
        "lst"
      ],
      "metadata": {
        "colab": {
          "base_uri": "https://localhost:8080/"
        },
        "id": "OjtIw-di0wcn",
        "outputId": "36f9fa7a-9390-44c5-d0af-ac3972895d12"
      },
      "execution_count": 23,
      "outputs": [
        {
          "output_type": "execute_result",
          "data": {
            "text/plain": [
              "[('the', 3), ('is', 2), ('sentence', 2), ('.', 2), ('This', 1)]"
            ]
          },
          "metadata": {},
          "execution_count": 23
        }
      ]
    },
    {
      "cell_type": "code",
      "source": [
        "#find longest word\n",
        "longest_word =  max(token_dict, key=len)\n",
        "tuple_longest_word=(longest_word, len(longest_word))\n",
        "print(tuple_longest_word)\n",
        "\n",
        "#find frequency word\n",
        "frequency_word=token_dict.most_common(1)\n",
        "print(frequency_word[0])"
      ],
      "metadata": {
        "colab": {
          "base_uri": "https://localhost:8080/"
        },
        "id": "BKMwwQOh1opL",
        "outputId": "0159c3b7-396a-480a-eb1a-b5715838b223"
      },
      "execution_count": 24,
      "outputs": [
        {
          "output_type": "stream",
          "name": "stdout",
          "text": [
            "('sentence', 8)\n",
            "('the', 3)\n"
          ]
        }
      ]
    },
    {
      "cell_type": "markdown",
      "source": [
        "##Stemming\n",
        "stemming is the process of reducing inflected (or sometimes derived) words to their word stem, base or root form—generally a written word form\n"
      ],
      "metadata": {
        "id": "YzLrPG1jWpBG"
      }
    },
    {
      "cell_type": "code",
      "source": [
        "porter = nltk.PorterStemmer()\n",
        "[porter.stem(t) for t in words1]"
      ],
      "metadata": {
        "colab": {
          "base_uri": "https://localhost:8080/"
        },
        "id": "pAYgmnurWmEj",
        "outputId": "b58d5bc3-78a3-429e-cd99-3e192a5e9e4c"
      },
      "execution_count": 25,
      "outputs": [
        {
          "output_type": "execute_result",
          "data": {
            "text/plain": [
              "['list', 'list', 'list', 'list', 'list']"
            ]
          },
          "metadata": {},
          "execution_count": 25
        }
      ]
    },
    {
      "cell_type": "markdown",
      "source": [
        "##Lemmatization\n",
        "Lemmatization is the process of grouping together the inflected forms of a word so they can be analysed as a single item, identified by the word's lemma, or dictionary form\n"
      ],
      "metadata": {
        "id": "018wlHucXcAU"
      }
    },
    {
      "cell_type": "markdown",
      "source": [
        "Lemmatization is closely related to stemming. The difference is that a stemmer operates on a single word without knowledge of the context, and therefore cannot discriminate between words which have different meanings depending on part of speech. However, stemmers are typically easier to implement and run faster"
      ],
      "metadata": {
        "id": "QrxfALG1X6BM"
      }
    },
    {
      "cell_type": "code",
      "source": [
        "#nltk.download('wordnet')\n",
        "\n",
        "WNlemma = nltk.WordNetLemmatizer()\n",
        "[WNlemma.lemmatize(t) for t in words1]"
      ],
      "metadata": {
        "colab": {
          "base_uri": "https://localhost:8080/"
        },
        "id": "KElZ_AsJXQnu",
        "outputId": "bf8321b4-1358-4658-e652-c5991396bf63"
      },
      "execution_count": 26,
      "outputs": [
        {
          "output_type": "execute_result",
          "data": {
            "text/plain": [
              "['list', 'listed', 'list', 'listing', 'listing']"
            ]
          },
          "metadata": {},
          "execution_count": 26
        }
      ]
    },
    {
      "cell_type": "markdown",
      "source": [
        "#Tag"
      ],
      "metadata": {
        "id": "WWC8KnIodtQY"
      }
    },
    {
      "cell_type": "code",
      "source": [
        "#nltk.download('averaged_perceptron_tagger')\n",
        "print(text11, '\\n')\n",
        "text_word=nltk.word_tokenize(text11)\n",
        "tag_text=nltk.pos_tag(text_word)\n",
        "tag_text"
      ],
      "metadata": {
        "id": "NTZJda2nEg8E",
        "outputId": "000a0292-e5ef-48b1-d2da-4ad3214dfeca",
        "colab": {
          "base_uri": "https://localhost:8080/"
        }
      },
      "execution_count": 27,
      "outputs": [
        {
          "output_type": "stream",
          "name": "stdout",
          "text": [
            "This is the first sentence. A gallon of milk in the U.S. costs $2.99. Is this the third sentence? Yes, it is! \n",
            "\n"
          ]
        },
        {
          "output_type": "execute_result",
          "data": {
            "text/plain": [
              "[('This', 'DT'),\n",
              " ('is', 'VBZ'),\n",
              " ('the', 'DT'),\n",
              " ('first', 'JJ'),\n",
              " ('sentence', 'NN'),\n",
              " ('.', '.'),\n",
              " ('A', 'DT'),\n",
              " ('gallon', 'NN'),\n",
              " ('of', 'IN'),\n",
              " ('milk', 'NN'),\n",
              " ('in', 'IN'),\n",
              " ('the', 'DT'),\n",
              " ('U.S.', 'NNP'),\n",
              " ('costs', 'VBZ'),\n",
              " ('$', '$'),\n",
              " ('2.99', 'CD'),\n",
              " ('.', '.'),\n",
              " ('Is', 'VBZ'),\n",
              " ('this', 'DT'),\n",
              " ('the', 'DT'),\n",
              " ('third', 'JJ'),\n",
              " ('sentence', 'NN'),\n",
              " ('?', '.'),\n",
              " ('Yes', 'UH'),\n",
              " (',', ','),\n",
              " ('it', 'PRP'),\n",
              " ('is', 'VBZ'),\n",
              " ('!', '.')]"
            ]
          },
          "metadata": {},
          "execution_count": 27
        }
      ]
    },
    {
      "cell_type": "markdown",
      "source": [
        "![photo1697543216.jpeg](data:image/jpeg;base64,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)\n"
      ],
      "metadata": {
        "id": "ELOunmlldVNu"
      }
    },
    {
      "cell_type": "markdown",
      "source": [
        "#Similarity\n",
        "\n"
      ],
      "metadata": {
        "id": "7VzS46HmGYG8"
      }
    },
    {
      "cell_type": "code",
      "source": [
        "import nltk\n",
        "nltk.download('wordnet')\n",
        "\n",
        "from nltk.corpus import wordnet as wn\n",
        "\n",
        "\n",
        "#https://www.nltk.org/howto/wordnet.html\n"
      ],
      "metadata": {
        "colab": {
          "base_uri": "https://localhost:8080/"
        },
        "id": "OJ2p2DvJHStv",
        "outputId": "0e786cb9-6590-4170-e26a-ce6cc2d57cf0"
      },
      "execution_count": 28,
      "outputs": [
        {
          "output_type": "stream",
          "name": "stderr",
          "text": [
            "[nltk_data] Downloading package wordnet to /root/nltk_data...\n",
            "[nltk_data]   Package wordnet is already up-to-date!\n"
          ]
        }
      ]
    },
    {
      "cell_type": "code",
      "source": [
        "'''\n",
        "pos - part of speech\n",
        "ADJ, ADJ_SAT, ADV, NOUN, VERB = \"a\", \"s\", \"r\", \"n\", \"v\"\n",
        "\n",
        "\n",
        "def convert_tag(tag):\n",
        "    \"\"\"Convert the tag given by nltk.pos_tag to the tag used by wordnet.synsets\"\"\"\n",
        "\n",
        "    tag_dict = {'N': 'n', 'J': 'a', 'R': 'r', 'V': 'v'}\n",
        "    try:\n",
        "        return tag_dict[tag[0]]\n",
        "    except KeyError:\n",
        "        return None\n",
        "\n",
        "tag_text=nltk.pos_tag(text_word)\n",
        "pos_text=[(word[0], convert_tag(word[1]))  for word in  tag_text if convert_tag(word[1])\n",
        "'''\n",
        "\n",
        "print(wn.synset('dog.n.01')) #wn.synset('{lema}{pos}{number})\n",
        "print(wn.synsets('dog'))\n"
      ],
      "metadata": {
        "colab": {
          "base_uri": "https://localhost:8080/"
        },
        "id": "cnYVD2ZyHXJS",
        "outputId": "f6b9fa46-f117-432a-8c91-c71e7dbb7397"
      },
      "execution_count": 29,
      "outputs": [
        {
          "output_type": "stream",
          "name": "stdout",
          "text": [
            "Synset('dog.n.01')\n",
            "[Synset('dog.n.01'), Synset('frump.n.01'), Synset('dog.n.03'), Synset('cad.n.01'), Synset('frank.n.02'), Synset('pawl.n.01'), Synset('andiron.n.01'), Synset('chase.v.01')]\n"
          ]
        }
      ]
    },
    {
      "cell_type": "code",
      "source": [
        "'''similarity'''\n",
        "\n",
        "#0- there is no similarity\n",
        "#1 - the similarity exists\n",
        "\n",
        "\n",
        "dog = wn.synset('dog.n.01')\n",
        "cat = wn.synset('cat.n.01')\n",
        "\n",
        "print(dog.path_similarity(dog)) # formula calculation 1/{number path}+1\n",
        "print(dog.lch_similarity(cat))  #using LCH, longer calculation\n",
        "\n",
        "#LCH-Lowest common hypernyms\n",
        "print(dog.lowest_common_hypernyms(cat))\n"
      ],
      "metadata": {
        "colab": {
          "base_uri": "https://localhost:8080/"
        },
        "id": "i86R-NXXJX_U",
        "outputId": "df8563fd-2565-4e5d-ff57-497351a678ca"
      },
      "execution_count": 30,
      "outputs": [
        {
          "output_type": "stream",
          "name": "stdout",
          "text": [
            "1.0\n",
            "2.0281482472922856\n",
            "[Synset('carnivore.n.01')]\n"
          ]
        }
      ]
    },
    {
      "cell_type": "code",
      "source": [
        "import pandas as pd\n",
        "#data\n",
        "data_list=[['Ms Stewart, the chief executive, was not expected to attend.',\n",
        "  'Ms Stewart, 61, its chief executive officer and chairwoman, did not attend.\\n'],\n",
        " [\"After more than two years' detention under the State Security Bureau, the four were found guilty of subversion in Beijing's No. 1 Intermediate Court last Wednesday.\",\n",
        "  'After more than two years in detention by the State Security Bureau, the four were found guilty last Wednesday of subversion.\\n'],\n",
        " ['\"It still remains to be seen whether the revenue recovery will be short- or long-lived,\" Sprayregen said.',\n",
        "  '\"It remains to be seen whether the revenue recovery will be short- or long-lived,\" said James Sprayregen, UAL bankruptcy attorney, in court.\\n'],\n",
        " ['And it\\'s going to be a wild ride,\" said Allan Hoffenblum, a Republican consultant.',\n",
        "  'Now the rest is just mechanical,\" said Allan Hoffenblum, a Republican consultant.\\n'],\n",
        " [\"The cards are issued by Mexico's consulates to its citizens living abroad and show the date of birth, a current photograph and the address of the card holder.\",\n",
        "  \"The card is issued by Mexico's consulates to its citizens living abroad and shows the date of birth, a current photograph and the address of the cardholder.\\n\"]]\n",
        "df = pd.DataFrame(data_list, columns=['Doc1', 'Doc2'])\n",
        "\n",
        "def convert_tag(tag):\n",
        "    \"\"\"Convert the tag given by nltk.pos_tag to the tag used by wordnet.synsets\"\"\"\n",
        "\n",
        "    tag_dict = {'N': 'n', 'J': 'a', 'R': 'r', 'V': 'v'}\n",
        "    try:\n",
        "        return tag_dict[tag[0]]\n",
        "    except KeyError:\n",
        "        return None\n",
        "\n",
        "def doc_to_synsets(doc):\n",
        "    \"\"\"\n",
        "    Example:\n",
        "        doc_to_synsets('Fish are friends.')\n",
        "        Out: [Synset('fish.n.01'), Synset('be.v.01'), Synset('friend.n.01')]\n",
        "    \"\"\"\n",
        "\n",
        "    text_word=nltk.word_tokenize(doc)\n",
        "    tag_text=nltk.pos_tag(text_word)\n",
        "\n",
        "    pos_text=[(word[0], convert_tag(word[1]))  for word in  tag_text]\n",
        "    result= [(wn.synsets(i[0] , i[1] )[0]) for i in pos_text if i[0].isalpha()==True and len(wn.synsets(i[0] , i[1] ))!=0]\n",
        "    return result\n",
        "\n",
        "def similarity_score(synsets1, synsets2):\n",
        "    \"\"\"\n",
        "    Example:\n",
        "        synsets1 = doc_to_synsets('I like cats')\n",
        "        synsets2 = doc_to_synsets('I like dogs')\n",
        "        similarity_score(synsets1, synsets2)\n",
        "        Out: 0.7333333333333333\n",
        "    \"\"\"\n",
        "\n",
        "    list_max=[]\n",
        "    for i1 in synsets1:\n",
        "        list_s=[]\n",
        "        for i2 in synsets2:\n",
        "            ps=i1.path_similarity(i2)\n",
        "            list_s.append(ps)\n",
        "\n",
        "        list_max.append(max(list_s))\n",
        "    return sum(list_max)/len(list_max)\n",
        "\n",
        "def document_path_similarity(doc1, doc2):\n",
        "    \"\"\"Finds the symmetrical similarity between doc1 and doc2\"\"\"\n",
        "    synsets1 = doc_to_synsets(doc1)\n",
        "    synsets2 = doc_to_synsets(doc2)\n",
        "    return (similarity_score(synsets1, synsets2) + similarity_score(synsets2, synsets1)) / 2\n",
        "\n",
        "def return_df_similarity(df):\n",
        "    from sklearn.metrics import accuracy_score\n",
        "    df['similarity_score']=df.apply(lambda x: document_path_similarity(x['Doc1'], x['Doc2']), axis=1)\n",
        "    return df\n",
        "\n",
        "\n",
        "return_df_similarity(df)\n"
      ],
      "metadata": {
        "id": "GP9rs1fLj-or",
        "outputId": "382ca6da-bb57-4860-9828-cf4ea3c350f6",
        "colab": {
          "base_uri": "https://localhost:8080/",
          "height": 206
        }
      },
      "execution_count": 31,
      "outputs": [
        {
          "output_type": "execute_result",
          "data": {
            "text/plain": [
              "                                                Doc1  \\\n",
              "0  Ms Stewart, the chief executive, was not expec...   \n",
              "1  After more than two years' detention under the...   \n",
              "2  \"It still remains to be seen whether the reven...   \n",
              "3  And it's going to be a wild ride,\" said Allan ...   \n",
              "4  The cards are issued by Mexico's consulates to...   \n",
              "\n",
              "                                                Doc2  similarity_score  \n",
              "0  Ms Stewart, 61, its chief executive officer an...          0.658018  \n",
              "1  After more than two years in detention by the ...          0.881252  \n",
              "2  \"It remains to be seen whether the revenue rec...          0.820135  \n",
              "3  Now the rest is just mechanical,\" said Allan H...          0.682995  \n",
              "4  The card is issued by Mexico's consulates to i...          0.930141  "
            ],
            "text/html": [
              "\n",
              "  <div id=\"df-5c590071-2db8-446a-8b72-6f2e175af10a\" class=\"colab-df-container\">\n",
              "    <div>\n",
              "<style scoped>\n",
              "    .dataframe tbody tr th:only-of-type {\n",
              "        vertical-align: middle;\n",
              "    }\n",
              "\n",
              "    .dataframe tbody tr th {\n",
              "        vertical-align: top;\n",
              "    }\n",
              "\n",
              "    .dataframe thead th {\n",
              "        text-align: right;\n",
              "    }\n",
              "</style>\n",
              "<table border=\"1\" class=\"dataframe\">\n",
              "  <thead>\n",
              "    <tr style=\"text-align: right;\">\n",
              "      <th></th>\n",
              "      <th>Doc1</th>\n",
              "      <th>Doc2</th>\n",
              "      <th>similarity_score</th>\n",
              "    </tr>\n",
              "  </thead>\n",
              "  <tbody>\n",
              "    <tr>\n",
              "      <th>0</th>\n",
              "      <td>Ms Stewart, the chief executive, was not expec...</td>\n",
              "      <td>Ms Stewart, 61, its chief executive officer an...</td>\n",
              "      <td>0.658018</td>\n",
              "    </tr>\n",
              "    <tr>\n",
              "      <th>1</th>\n",
              "      <td>After more than two years' detention under the...</td>\n",
              "      <td>After more than two years in detention by the ...</td>\n",
              "      <td>0.881252</td>\n",
              "    </tr>\n",
              "    <tr>\n",
              "      <th>2</th>\n",
              "      <td>\"It still remains to be seen whether the reven...</td>\n",
              "      <td>\"It remains to be seen whether the revenue rec...</td>\n",
              "      <td>0.820135</td>\n",
              "    </tr>\n",
              "    <tr>\n",
              "      <th>3</th>\n",
              "      <td>And it's going to be a wild ride,\" said Allan ...</td>\n",
              "      <td>Now the rest is just mechanical,\" said Allan H...</td>\n",
              "      <td>0.682995</td>\n",
              "    </tr>\n",
              "    <tr>\n",
              "      <th>4</th>\n",
              "      <td>The cards are issued by Mexico's consulates to...</td>\n",
              "      <td>The card is issued by Mexico's consulates to i...</td>\n",
              "      <td>0.930141</td>\n",
              "    </tr>\n",
              "  </tbody>\n",
              "</table>\n",
              "</div>\n",
              "    <div class=\"colab-df-buttons\">\n",
              "\n",
              "  <div class=\"colab-df-container\">\n",
              "    <button class=\"colab-df-convert\" onclick=\"convertToInteractive('df-5c590071-2db8-446a-8b72-6f2e175af10a')\"\n",
              "            title=\"Convert this dataframe to an interactive table.\"\n",
              "            style=\"display:none;\">\n",
              "\n",
              "  <svg xmlns=\"http://www.w3.org/2000/svg\" height=\"24px\" viewBox=\"0 -960 960 960\">\n",
              "    <path d=\"M120-120v-720h720v720H120Zm60-500h600v-160H180v160Zm220 220h160v-160H400v160Zm0 220h160v-160H400v160ZM180-400h160v-160H180v160Zm440 0h160v-160H620v160ZM180-180h160v-160H180v160Zm440 0h160v-160H620v160Z\"/>\n",
              "  </svg>\n",
              "    </button>\n",
              "\n",
              "  <style>\n",
              "    .colab-df-container {\n",
              "      display:flex;\n",
              "      gap: 12px;\n",
              "    }\n",
              "\n",
              "    .colab-df-convert {\n",
              "      background-color: #E8F0FE;\n",
              "      border: none;\n",
              "      border-radius: 50%;\n",
              "      cursor: pointer;\n",
              "      display: none;\n",
              "      fill: #1967D2;\n",
              "      height: 32px;\n",
              "      padding: 0 0 0 0;\n",
              "      width: 32px;\n",
              "    }\n",
              "\n",
              "    .colab-df-convert:hover {\n",
              "      background-color: #E2EBFA;\n",
              "      box-shadow: 0px 1px 2px rgba(60, 64, 67, 0.3), 0px 1px 3px 1px rgba(60, 64, 67, 0.15);\n",
              "      fill: #174EA6;\n",
              "    }\n",
              "\n",
              "    .colab-df-buttons div {\n",
              "      margin-bottom: 4px;\n",
              "    }\n",
              "\n",
              "    [theme=dark] .colab-df-convert {\n",
              "      background-color: #3B4455;\n",
              "      fill: #D2E3FC;\n",
              "    }\n",
              "\n",
              "    [theme=dark] .colab-df-convert:hover {\n",
              "      background-color: #434B5C;\n",
              "      box-shadow: 0px 1px 3px 1px rgba(0, 0, 0, 0.15);\n",
              "      filter: drop-shadow(0px 1px 2px rgba(0, 0, 0, 0.3));\n",
              "      fill: #FFFFFF;\n",
              "    }\n",
              "  </style>\n",
              "\n",
              "    <script>\n",
              "      const buttonEl =\n",
              "        document.querySelector('#df-5c590071-2db8-446a-8b72-6f2e175af10a button.colab-df-convert');\n",
              "      buttonEl.style.display =\n",
              "        google.colab.kernel.accessAllowed ? 'block' : 'none';\n",
              "\n",
              "      async function convertToInteractive(key) {\n",
              "        const element = document.querySelector('#df-5c590071-2db8-446a-8b72-6f2e175af10a');\n",
              "        const dataTable =\n",
              "          await google.colab.kernel.invokeFunction('convertToInteractive',\n",
              "                                                    [key], {});\n",
              "        if (!dataTable) return;\n",
              "\n",
              "        const docLinkHtml = 'Like what you see? Visit the ' +\n",
              "          '<a target=\"_blank\" href=https://colab.research.google.com/notebooks/data_table.ipynb>data table notebook</a>'\n",
              "          + ' to learn more about interactive tables.';\n",
              "        element.innerHTML = '';\n",
              "        dataTable['output_type'] = 'display_data';\n",
              "        await google.colab.output.renderOutput(dataTable, element);\n",
              "        const docLink = document.createElement('div');\n",
              "        docLink.innerHTML = docLinkHtml;\n",
              "        element.appendChild(docLink);\n",
              "      }\n",
              "    </script>\n",
              "  </div>\n",
              "\n",
              "\n",
              "<div id=\"df-c0ac9f1b-4885-41f7-8eb3-851e14f9aef5\">\n",
              "  <button class=\"colab-df-quickchart\" onclick=\"quickchart('df-c0ac9f1b-4885-41f7-8eb3-851e14f9aef5')\"\n",
              "            title=\"Suggest charts.\"\n",
              "            style=\"display:none;\">\n",
              "\n",
              "<svg xmlns=\"http://www.w3.org/2000/svg\" height=\"24px\"viewBox=\"0 0 24 24\"\n",
              "     width=\"24px\">\n",
              "    <g>\n",
              "        <path d=\"M19 3H5c-1.1 0-2 .9-2 2v14c0 1.1.9 2 2 2h14c1.1 0 2-.9 2-2V5c0-1.1-.9-2-2-2zM9 17H7v-7h2v7zm4 0h-2V7h2v10zm4 0h-2v-4h2v4z\"/>\n",
              "    </g>\n",
              "</svg>\n",
              "  </button>\n",
              "\n",
              "<style>\n",
              "  .colab-df-quickchart {\n",
              "      --bg-color: #E8F0FE;\n",
              "      --fill-color: #1967D2;\n",
              "      --hover-bg-color: #E2EBFA;\n",
              "      --hover-fill-color: #174EA6;\n",
              "      --disabled-fill-color: #AAA;\n",
              "      --disabled-bg-color: #DDD;\n",
              "  }\n",
              "\n",
              "  [theme=dark] .colab-df-quickchart {\n",
              "      --bg-color: #3B4455;\n",
              "      --fill-color: #D2E3FC;\n",
              "      --hover-bg-color: #434B5C;\n",
              "      --hover-fill-color: #FFFFFF;\n",
              "      --disabled-bg-color: #3B4455;\n",
              "      --disabled-fill-color: #666;\n",
              "  }\n",
              "\n",
              "  .colab-df-quickchart {\n",
              "    background-color: var(--bg-color);\n",
              "    border: none;\n",
              "    border-radius: 50%;\n",
              "    cursor: pointer;\n",
              "    display: none;\n",
              "    fill: var(--fill-color);\n",
              "    height: 32px;\n",
              "    padding: 0;\n",
              "    width: 32px;\n",
              "  }\n",
              "\n",
              "  .colab-df-quickchart:hover {\n",
              "    background-color: var(--hover-bg-color);\n",
              "    box-shadow: 0 1px 2px rgba(60, 64, 67, 0.3), 0 1px 3px 1px rgba(60, 64, 67, 0.15);\n",
              "    fill: var(--button-hover-fill-color);\n",
              "  }\n",
              "\n",
              "  .colab-df-quickchart-complete:disabled,\n",
              "  .colab-df-quickchart-complete:disabled:hover {\n",
              "    background-color: var(--disabled-bg-color);\n",
              "    fill: var(--disabled-fill-color);\n",
              "    box-shadow: none;\n",
              "  }\n",
              "\n",
              "  .colab-df-spinner {\n",
              "    border: 2px solid var(--fill-color);\n",
              "    border-color: transparent;\n",
              "    border-bottom-color: var(--fill-color);\n",
              "    animation:\n",
              "      spin 1s steps(1) infinite;\n",
              "  }\n",
              "\n",
              "  @keyframes spin {\n",
              "    0% {\n",
              "      border-color: transparent;\n",
              "      border-bottom-color: var(--fill-color);\n",
              "      border-left-color: var(--fill-color);\n",
              "    }\n",
              "    20% {\n",
              "      border-color: transparent;\n",
              "      border-left-color: var(--fill-color);\n",
              "      border-top-color: var(--fill-color);\n",
              "    }\n",
              "    30% {\n",
              "      border-color: transparent;\n",
              "      border-left-color: var(--fill-color);\n",
              "      border-top-color: var(--fill-color);\n",
              "      border-right-color: var(--fill-color);\n",
              "    }\n",
              "    40% {\n",
              "      border-color: transparent;\n",
              "      border-right-color: var(--fill-color);\n",
              "      border-top-color: var(--fill-color);\n",
              "    }\n",
              "    60% {\n",
              "      border-color: transparent;\n",
              "      border-right-color: var(--fill-color);\n",
              "    }\n",
              "    80% {\n",
              "      border-color: transparent;\n",
              "      border-right-color: var(--fill-color);\n",
              "      border-bottom-color: var(--fill-color);\n",
              "    }\n",
              "    90% {\n",
              "      border-color: transparent;\n",
              "      border-bottom-color: var(--fill-color);\n",
              "    }\n",
              "  }\n",
              "</style>\n",
              "\n",
              "  <script>\n",
              "    async function quickchart(key) {\n",
              "      const quickchartButtonEl =\n",
              "        document.querySelector('#' + key + ' button');\n",
              "      quickchartButtonEl.disabled = true;  // To prevent multiple clicks.\n",
              "      quickchartButtonEl.classList.add('colab-df-spinner');\n",
              "      try {\n",
              "        const charts = await google.colab.kernel.invokeFunction(\n",
              "            'suggestCharts', [key], {});\n",
              "      } catch (error) {\n",
              "        console.error('Error during call to suggestCharts:', error);\n",
              "      }\n",
              "      quickchartButtonEl.classList.remove('colab-df-spinner');\n",
              "      quickchartButtonEl.classList.add('colab-df-quickchart-complete');\n",
              "    }\n",
              "    (() => {\n",
              "      let quickchartButtonEl =\n",
              "        document.querySelector('#df-c0ac9f1b-4885-41f7-8eb3-851e14f9aef5 button');\n",
              "      quickchartButtonEl.style.display =\n",
              "        google.colab.kernel.accessAllowed ? 'block' : 'none';\n",
              "    })();\n",
              "  </script>\n",
              "</div>\n",
              "    </div>\n",
              "  </div>\n"
            ]
          },
          "metadata": {},
          "execution_count": 31
        }
      ]
    }
  ]
}